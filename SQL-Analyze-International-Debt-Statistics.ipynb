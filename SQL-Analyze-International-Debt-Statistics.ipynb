{
  "metadata": {
    "language_info": {
      "codemirror_mode": {
        "name": "python",
        "version": 3
      },
      "file_extension": ".py",
      "mimetype": "text/x-python",
      "name": "python",
      "nbconvert_exporter": "python",
      "pygments_lexer": "ipython3",
      "version": "3.8"
    },
    "kernelspec": {
      "name": "python",
      "display_name": "Python (Pyodide)",
      "language": "python"
    }
  },
  "nbformat_minor": 4,
  "nbformat": 4,
  "cells": [
    {
      "cell_type": "code",
      "source": "%%sql\npostgresql:///international_debt\nSELECT *\nFROM international_debt\nLIMIT 10;\n\n",
      "metadata": {
        "trusted": true
      },
      "execution_count": null,
      "outputs": []
    },
    {
      "cell_type": "code",
      "source": "%%sql\nSELECT \n    COUNT(DISTINCT(country_name)) AS total_distinct_countries\nFROM international_debt;",
      "metadata": {
        "trusted": true
      },
      "execution_count": null,
      "outputs": []
    },
    {
      "cell_type": "code",
      "source": "%%sql\nSELECT \n    DISTINCT(indicator_code) as distinct_debt_indicators\nFROM international_debt\nGROUP BY distinct_debt_indicators\nORDER BY distinct_debt_indicators;",
      "metadata": {
        "trusted": true
      },
      "execution_count": null,
      "outputs": []
    },
    {
      "cell_type": "code",
      "source": "%%sql\nSELECT \n    ROUND(SUM(debt)/1000000, 2) as total_debt\nFROM international_debt;",
      "metadata": {
        "trusted": true
      },
      "execution_count": null,
      "outputs": []
    },
    {
      "cell_type": "code",
      "source": "%%sql\nSELECT \n    country_name, \n    ROUND(SUM(debt)/1000000, 2) as total_debt\nFROM international_debt\nGROUP BY country_name\nORDER BY total_debt DESC \nLIMIT 1;",
      "metadata": {
        "trusted": true
      },
      "execution_count": null,
      "outputs": []
    },
    {
      "cell_type": "code",
      "source": "%%sql\nSELECT \n    indicator_code AS debt_indicator,\n    ROUND(AVG(debt)/1000000,2) as average_debt,\n    indicator_name\nFROM international_debt\nGROUP BY debt_indicator, indicator_name\nORDER BY average_debt DESC\nLIMIT 10;",
      "metadata": {
        "trusted": true
      },
      "execution_count": null,
      "outputs": []
    },
    {
      "cell_type": "code",
      "source": "%%sql\nSELECT \n    country_name, \n    ROUND(AVG(debt)/1000000,2) as average_debt,\n    indicator_name,\n    indicator_code\nFROM international_debt\nGROUP BY country_name, indicator_name, indicator_code\nHAVING indicator_code = 'DT.AMT.DLXF.CD'\nORDER BY average_debt DESC\nLIMIT 10;\n",
      "metadata": {
        "trusted": true
      },
      "execution_count": null,
      "outputs": []
    },
    {
      "cell_type": "code",
      "source": "%%sql\nSELECT \n    indicator_name,\n    COUNT(indicator_code) as indicator_count\nFROM international_debt\nGROUP BY indicator_code, indicator_name\nORDER BY indicator_count DESC\nLIMIT 20;",
      "metadata": {
        "trusted": true
      },
      "execution_count": null,
      "outputs": []
    },
    {
      "cell_type": "code",
      "source": "%%sql\nSELECT\n    country_name,\n    indicator_name,\n    MAX(debt) as maximum_debt\nFROM international_debt\nGROUP BY country_name, indicator_name\nORDER BY maximum_debt DESC\nLIMIT 20;",
      "metadata": {
        "trusted": true
      },
      "execution_count": null,
      "outputs": []
    },
    {
      "cell_type": "code",
      "source": "",
      "metadata": {},
      "execution_count": null,
      "outputs": []
    }
  ]
}